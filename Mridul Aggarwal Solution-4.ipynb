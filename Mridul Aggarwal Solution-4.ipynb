{
 "cells": [
  {
   "cell_type": "markdown",
   "metadata": {},
   "source": [
    "# Spell Checking using Norvig's Algorithm"
   ]
  },
  {
   "cell_type": "markdown",
   "metadata": {},
   "source": [
    "## Importing the Python regex and Counter libraries to extract words containing only alphabets from 'big.txt'"
   ]
  },
  {
   "cell_type": "code",
   "execution_count": 1,
   "metadata": {},
   "outputs": [],
   "source": [
    "import re\n",
    "from collections import Counter\n",
    "\n",
    "# using regular expression r'\\w+'\n",
    "def extraction(text): \n",
    "    return re.findall(r'\\w+', text.lower())\n",
    "\n",
    "Dict_of_words = Counter(extraction(open('big.txt').read()))"
   ]
  },
  {
   "cell_type": "markdown",
   "metadata": {},
   "source": [
    "## Takes a word as an input and returns the probabiblity of that word"
   ]
  },
  {
   "cell_type": "code",
   "execution_count": 2,
   "metadata": {},
   "outputs": [],
   "source": [
    "def P(word): \n",
    "    # Number of times the input word has come in the big.txt / Total words in the big.txt\n",
    "    N=sum(Dict_of_words.values())\n",
    "    return Dict_of_words[word] / N"
   ]
  },
  {
   "cell_type": "code",
   "execution_count": 3,
   "metadata": {},
   "outputs": [
    {
     "data": {
      "text/plain": [
       "0.001178753748033543"
      ]
     },
     "execution_count": 3,
     "metadata": {},
     "output_type": "execute_result"
    }
   ],
   "source": [
    "P('how')"
   ]
  },
  {
   "cell_type": "markdown",
   "metadata": {},
   "source": [
    "## Takes a word as an input and returns all the words that are 1 edit distance away"
   ]
  },
  {
   "cell_type": "code",
   "execution_count": 4,
   "metadata": {},
   "outputs": [],
   "source": [
    "def edits1(word):\n",
    "    letters    = 'abcdefghijklmnopqrstuvwxyz'\n",
    "    splits     = [(word[:i], word[i:])    for i in range(len(word) + 1)]\n",
    "    deletes    = [L + R[1:]               for L, R in splits if R]\n",
    "    transposes = [L + R[1] + R[0] + R[2:] for L, R in splits if len(R)>1]\n",
    "    replaces   = [L + c + R[1:]           for L, R in splits if R for c in letters]\n",
    "    inserts    = [L + c + R               for L, R in splits for c in letters]\n",
    "    return set(deletes + transposes + replaces + inserts)"
   ]
  },
  {
   "cell_type": "code",
   "execution_count": 5,
   "metadata": {},
   "outputs": [],
   "source": [
    "# edits1('how')"
   ]
  },
  {
   "cell_type": "markdown",
   "metadata": {},
   "source": [
    "## Takes a word as an input and returns all the words that are 2 edit distance away"
   ]
  },
  {
   "cell_type": "code",
   "execution_count": 6,
   "metadata": {},
   "outputs": [],
   "source": [
    "def edits2(word): \n",
    "    return set(e2 for e1 in edits1(word) for e2 in edits1(e1))"
   ]
  },
  {
   "cell_type": "code",
   "execution_count": 7,
   "metadata": {},
   "outputs": [],
   "source": [
    "# edits2('how')"
   ]
  },
  {
   "cell_type": "markdown",
   "metadata": {},
   "source": [
    "## Takes a list of words and returns a subset of the list of words that are present in the WORDS dictionary"
   ]
  },
  {
   "cell_type": "code",
   "execution_count": 8,
   "metadata": {},
   "outputs": [],
   "source": [
    "def known(words): \n",
    "    return set(w for w in words if w in Dict_of_words)"
   ]
  },
  {
   "cell_type": "markdown",
   "metadata": {},
   "source": [
    "## Takes a word as an input and returns all the possible correct candidates for that word "
   ]
  },
  {
   "cell_type": "code",
   "execution_count": 9,
   "metadata": {},
   "outputs": [],
   "source": [
    "def candidates(word): \n",
    "    return (known([word]) or known(edits1(word)) or known(edits2(word)) or [word])"
   ]
  },
  {
   "cell_type": "markdown",
   "metadata": {},
   "source": [
    "## Takes a word as an input and returns the correct word with the highest probability"
   ]
  },
  {
   "cell_type": "code",
   "execution_count": 10,
   "metadata": {},
   "outputs": [],
   "source": [
    "def correction(word): \n",
    "    return max(candidates(word), key=P)"
   ]
  },
  {
   "cell_type": "markdown",
   "metadata": {},
   "source": [
    "## Testing the correction function"
   ]
  },
  {
   "cell_type": "code",
   "execution_count": 11,
   "metadata": {},
   "outputs": [
    {
     "name": "stdout",
     "output_type": "stream",
     "text": [
      "what\n",
      "happy\n",
      "did\n",
      "manipulate\n"
     ]
    }
   ],
   "source": [
    "print(correction('whet'))\n",
    "print(correction('hapy'))\n",
    "print(correction('diad'))\n",
    "print(correction('Manipolate'))"
   ]
  },
  {
   "cell_type": "markdown",
   "metadata": {},
   "source": [
    "# Spell Checking using the SymSpell delete spell checking algorithm"
   ]
  },
  {
   "cell_type": "markdown",
   "metadata": {},
   "source": [
    "## Importing the Python regex and Counter libraries to extract words containing only alphabets from 'big.txt'"
   ]
  },
  {
   "cell_type": "code",
   "execution_count": 12,
   "metadata": {},
   "outputs": [],
   "source": [
    "import re\n",
    "from collections import Counter\n",
    "\n",
    "def words(text): return re.findall('[a-z]+', text.lower())\n",
    "\n",
    "WORDS = dict(Counter(words(open('big.txt').read())))\n",
    "Edits1 = {}\n",
    "Edits2 = {}"
   ]
  },
  {
   "cell_type": "markdown",
   "metadata": {},
   "source": [
    "## Returns a set of words formed by deleting 1 character from the word"
   ]
  },
  {
   "cell_type": "code",
   "execution_count": 13,
   "metadata": {},
   "outputs": [],
   "source": [
    "def delete(word):\n",
    "    splits     = [(word[:i], word[i:]) for i in range(len(word) + 1)]\n",
    "    deletes    = [L + R[1:] for L, R in splits if R]\n",
    "    return set(deletes)"
   ]
  },
  {
   "cell_type": "markdown",
   "metadata": {},
   "source": [
    "## Fills the values in the two dictionaries edits1 and edits2, edits1 contain words that can be formed by deleting 1 character from the input word and edits2 contain words that can be formed by deleting two characters from the input word."
   ]
  },
  {
   "cell_type": "code",
   "execution_count": 14,
   "metadata": {},
   "outputs": [],
   "source": [
    "def populate(word):\n",
    "    set1 = delete(word)\n",
    "    set2 = set([e2 for e1 in set1 for e2 in delete(e1)])\n",
    "    for x in set1:\n",
    "        Edits1.setdefault(x,[]).append(word)\n",
    "    for x in set2:\n",
    "        Edits2.setdefault(x,[]).append(word)"
   ]
  },
  {
   "cell_type": "markdown",
   "metadata": {},
   "source": [
    "## Populating the Edits1 and Edits2 dictionaries"
   ]
  },
  {
   "cell_type": "code",
   "execution_count": 15,
   "metadata": {},
   "outputs": [],
   "source": [
    "for w in WORDS.keys():\n",
    "    populate(w)"
   ]
  },
  {
   "cell_type": "markdown",
   "metadata": {},
   "source": [
    "## The function will take the input word and return the correct word, it will generate all the words that can be formed by deleting one or two characters from the input word. Then it finds the words corresponding to the words found in Edits1 and Edits2 dictionaries and finds the most common words in the WORDS dictionary"
   ]
  },
  {
   "cell_type": "code",
   "execution_count": 16,
   "metadata": {},
   "outputs": [],
   "source": [
    "def correction(inp):\n",
    "    a = None\n",
    "    b = None\n",
    "    if inp in WORDS.keys():\n",
    "        return inp\n",
    "    s1 = list(delete(inp))+[inp]\n",
    "    s2 = []\n",
    "    for x in s1:\n",
    "        if x in Edits1.keys():\n",
    "            s2 += Edits1[x]\n",
    "    if len(s2):\n",
    "        a = max(s2, key=WORDS.get)\n",
    "    \n",
    "    s1 = set(s1)\n",
    "    s2 = set([e2 for e1 in s1 for e2 in delete(e1)])\n",
    "    s3 = list(s1|s2)+[inp]\n",
    "    s4 = []\n",
    "    for x in s3:\n",
    "        if x in Edits2.keys():\n",
    "            s4 += Edits2[x]\n",
    "    if len(s4):\n",
    "        b = max(s4, key=WORDS.get)\n",
    "    if a and a!=b:\n",
    "        return (a,b)\n",
    "    if b:\n",
    "        return b\n",
    "    else:\n",
    "        return 'No candidate found'"
   ]
  },
  {
   "cell_type": "markdown",
   "metadata": {},
   "source": [
    "## Testing the correction function, returns 1 or 2 correct words or 'No candidate found' if nothing is found"
   ]
  },
  {
   "cell_type": "code",
   "execution_count": 17,
   "metadata": {},
   "outputs": [
    {
     "name": "stdout",
     "output_type": "stream",
     "text": [
      "('what', 'that')\n",
      "('happy', 'that')\n",
      "('dead', 'said')\n",
      "manipulate\n"
     ]
    }
   ],
   "source": [
    "print(correction('whet'))\n",
    "print(correction('hapy'))\n",
    "print(correction('diad'))\n",
    "print(correction('Manipolate'))"
   ]
  },
  {
   "cell_type": "markdown",
   "metadata": {},
   "source": [
    "# SymSpell Algorithm is million times faster than Norvig's Algorithm"
   ]
  }
 ],
 "metadata": {
  "kernelspec": {
   "display_name": "Python 3",
   "language": "python",
   "name": "python3"
  },
  "language_info": {
   "codemirror_mode": {
    "name": "ipython",
    "version": 3
   },
   "file_extension": ".py",
   "mimetype": "text/x-python",
   "name": "python",
   "nbconvert_exporter": "python",
   "pygments_lexer": "ipython3",
   "version": "3.7.3"
  }
 },
 "nbformat": 4,
 "nbformat_minor": 2
}
